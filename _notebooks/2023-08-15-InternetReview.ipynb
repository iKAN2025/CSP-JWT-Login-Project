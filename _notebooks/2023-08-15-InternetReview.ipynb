---
title: Review Ticket
courses: {'compsci': {'week': 3}}
type: tangibles
layout: base
---

