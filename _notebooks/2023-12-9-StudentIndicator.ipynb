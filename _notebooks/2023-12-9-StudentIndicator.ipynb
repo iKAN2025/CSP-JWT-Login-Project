{
 "cells": [
  {
   "cell_type": "markdown",
   "metadata": {},
   "source": [
    "---\n",
    "layout: base\n",
    "title: Student Teaching Part 2 + Key Indicators\n",
    "type: hacks \n",
    "courses: { compsci: {week: 4} }\n",
    "---"
   ]
  },
  {
   "cell_type": "markdown",
   "metadata": {},
   "source": [
    "Student Teaching Part 2 + Key Indicators\n",
    "\n",
    "| Category                        | Score | Grader      | Extras                                                                     | Key Indicators: Blog, GitHub File(s) and Key Commits                              |\n",
    "|---------------------------------|-------|-------------|----------------------------------------------------------------------------|-----------------------------------------------------------------------------------|\n",
    "| Undecided Problems              | 1/1   | n/a         | (our team teach)                                                           | [Our Team Teach](https://jplip.github.io/frontTri2//2023/12/13/UndecidedProblems_IPYNB_2_.html)                            | see blog post                                     |\n",
    "| The Internet                    | 1.00  | Nandan V    | Quizlets,  The Internet and Review Ticket of Team Teach (See blog)       | [Review](https://ikan2025.github.io/CSP-JWT-Login-Project//2023/12/22/Internet_IPYNB_2_.html)                                                           |\n",
    "| Routing and Computing           | 1.00  | Dante A     | Re-Review of Team Teach and Collegeboard Video on Topic, Review Ticket     | [Routing/Computing](https://ikan2025.github.io/CSP-JWT-Login-Project//2023/08/17/Routing-And-Computing_IPYNB_2_.html)                                                        |\n",
    "| Beneficial and Harmful Effects  | 0.94  | Ameer H     | Re-Review of Team Teach and Collegeboard Video on Topic                     | [Beneficial/Harmful]()                                          |\n",
    "| Digital Divide                  | 1.00  | Sergi       | Read Stanford articles/Videos about the Digital Divide and watched College board video | [Digital Divide](https://ikan2025.github.io/Nighthawk-Pages//2023/12/07/ReviewTicket.html)                          |\n",
    "| Computing Bias                  | 0.92  | Trevor H    | Watch college board video /Khan Academy,  |  [Computing Bias Team Teach](https://ikan2025.github.io/Nighthawk-Pages/2023/12/11/Computing-Bias-Team-Teach_IPYNB_2_.html)                                                                                 |\n",
    "| Crowdsourcing                   | 0.93  | Nitin Balaji| Collegeboard video to learn topic, Khan Academy Review                                           | [My Team Teach](https://ikan2025.github.io/Nighthawk-Pages/2023/12/05/crowdsourcing_IPYNB_2_.html) |\n",
    "| Legal Ethical Concerns          | 0.97  | Tanuj       | Re-Review of Team Teach, Collegeboard Video on Topic, Khan Academy and Research on a type of license | [My response to Google Form]() |\n",
    "| Safe Computing                  | 0.96  | Kayden Le   | Re-Review of Team Teach and Collegeboard Video on Topic, Academy            | [Safe Computing IPYNB 2](https://ikan2025.github.io/CSP-JWT-Login-Project/2023/12/21/Safe_computing_IPYNB_2_.html) |\n",
    "| CB Quiz                         | 1.98  | Mr.Mortensen| Blog, Test Corrections, and research on unknown topics                      | [My Blog on 2020 College Board AP CSP Quiz](https://ikan2025.github.io/CSP-JWT-Login-Project/2023/12/16/CollegeBoard_IPYNB_2_.html)                                        |\n",
    "| Totals                          | Median Score: 0.98 |        | Extra Effort Count: 10                                                                            |    Key Assets: 10\n",
    "\n",
    "\n",
    "\n"
   ]
  },
  {
   "cell_type": "markdown",
   "metadata": {},
   "source": [
    "**Extra for CPT Project: Exploring Ideas**\n",
    "\n",
    "\n",
    "# The Internet\n",
    "\n",
    "I was thinking about how JSON could be used for data packets to be sent to the backend server. I was also thinking about using Certbot Config so that the deployed site could be secure. HTTPS encrypts fitness data, safeguarding it from unauthorized access and ensuring user privacy. HTTPS also provides authentication and prevents data tampering, guaranteeing the integrity of the transmitted health information. It is interesting to see how exactly the internet works and how understanding this is crucial for frontend-backend integration on our project! \n",
    "\n",
    "\n",
    "# Routing/Computing\n",
    "\n",
    "Routing and computing are vital for exercise fitness trackers(CPT) as they manage data efficiently. They handle data processing, allowing for real-time monitoring and quick feedback to users regarding their fitness activities. This is similar to the concept of the internet-for example, in html, we often encode data with UTF-8. \n",
    "\n",
    "\n",
    "# Beneficial/ Harmful Effects\n",
    "\n",
    "Exercise trackers have benefits/harmful effects. For our CPT project, we motivate/help people learn about binary by having daily spins and binary rewards based on the usage of the app.\n",
    " Additionally, we plan for goal-setting feature and  progress monitoring to motivate users. However, it's important to consider that the overemphasis on meeting specific metrics or daily step counts may lead to increased stress or obsession, shifting the focus away from overall health. That's why we plan to to mindfulness in using these trackers, educate users on healthy exercise habits, prioritize data accuracy and privacy measures, and promote a balanced approach to wellness that encompasses various aspects beyond just exercise tracking. We may allow forms or utterance comments for feedback if we take the website further. \n",
    "\n",
    "# Digital Divide\n",
    "\n",
    "Some people aren't as privileged as others when it comes to technology. So, for our CPT project, we plan to design an easy-to-use interface suitable for varying technological skills, ensuring simple navigation and clear instructions. We can reduce data usage accommodate those with limited data plans or slower internet connections. We can also  offer educational resources to guide users in utilizing the tracker effectively and understanding the benefits of physical activity for overall health. \n",
    "\n",
    "\n",
    "# Computing Bias\n",
    " \n",
    " Computing bias can arise in differnt ways. For example, algorithms might be limited certain types of exercise or fitness routines over others, neglecting cultural or regional exercises. We can adress computing bias by having  diverse data collection, algorithmic fairness, and evaluation to always better the app. A lack of diveristy in users, as well as heatlh conditions, can lead to less accurate undertstanding.\n",
    "\n",
    "# Legal/Ethical Concerns\n",
    "\n",
    "- Legal and ethical concerns surrounding exercise fitness trackers revolve around data privacy, security, and user consent. We collect important health information, which could rresult in issues rwith protection, and  misuse. Unauthorized access/third party usage (cookies) to this data can lead to this, so we have to be secure (HHTPS)\n",
    "\n",
    "- We are also using the Apache 2.0 License for our CPT project. It allows users to use, modify, distribute, and sublicense the software, whether for commercial or non-commercial purposes. \n",
    "\n",
    "\n",
    "\n",
    "# Safe Computing\n",
    "\n",
    "We can secure data encryption techniques to protect user information, implementing strict access controls to prevent unauthorized access to personal date (CORS, HTTPS) We can also warn/educate users about privacy settings and the importance of secure practices when using the tracker.\n",
    "\n",
    "# Crowdsourcing\n",
    "\n",
    "We can use  a large group of users or contributors. This approach leverages the collective input and experiences of a diverse user base to enhance the functionality, accuracy, and user experience of the exercise tracker for tailored workedputs"
   ]
  }
 ],
 "metadata": {
  "kernelspec": {
   "display_name": "Python 3",
   "language": "python",
   "name": "python3"
  },
  "language_info": {
   "name": "python",
   "version": "3.11.4"
  }
 },
 "nbformat": 4,
 "nbformat_minor": 2
}
