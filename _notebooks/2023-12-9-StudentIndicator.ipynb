{
 "cells": [
  {
   "cell_type": "markdown",
   "metadata": {},
   "source": [
    "---\n",
    "layout: base\n",
    "title: Student Teaching Part 2 + Key Indicators\n",
    "type: hacks \n",
    "courses: { compsci: {week: 3} }\n",
    "---"
   ]
  },
  {
   "cell_type": "markdown",
   "metadata": {},
   "source": [
    "#Student Teaching Part 2 + Key Indicators**\n",
    "\n",
    "| Category                        | Score | Grader      | Extras                                                                     | Key Indicators: Blog, GitHub File(s) and Key Commits                              |\n",
    "|---------------------------------|-------|-------------|----------------------------------------------------------------------------|-----------------------------------------------------------------------------------|\n",
    "| Undecided Problems              | 1/1   | n/a         | (our team teach)                                                           | [Our Team Teach](https://jplip.github.io/frontTri2//2023/12/13/UndecidedProblems_IPYNB_2_.html)                            | see blog post                                     |\n",
    "| The Internet                    | 1.00  | Nandan V    | Quizlets,  The Internet and Review Ticket of Team Teach (See blog)       | [Review](https://ikan2025.github.io/CSP-JWT-Login-Project//2023/12/22/Internet_IPYNB_2_.html)                                                           |\n",
    "| Routing and Computing           | 1.00  | Dante A     | Re-Review of Team Teach and Collegeboard Video on Topic, Review Ticket     | [Routing/Computing](https://ikan2025.github.io/CSP-JWT-Login-Project//2023/08/17/Routing-And-Computing_IPYNB_2_.html)                                                        |\n",
    "| Beneficial and Harmful Effects  | 0.94  | Ameer H     | Re-Review of Team Teach and Collegeboard Video on Topic                     | [Beneficial/Harmful](https://ikan2025.github.io/Nighthawk-Pages//2023/12/06/ComputingReview.html)                                          |\n",
    "| Digital Divide                  | 1.00  | Sergi       | Read Stanford articles/Videos about the Digital Divide and watched College board video | [Digital Divide](https://ikan2025.github.io/Nighthawk-Pages//2023/12/07/ReviewTicket.html)                          |\n",
    "| Computing Bias                  | 0.92  | Trevor H    | Watch college board video /Khan Academy,  |  [Computing Bias Team Teach](https://ikan2025.github.io/Nighthawk-Pages/2023/12/11/Computing-Bias-Team-Teach_IPYNB_2_.html)                                                                                 |\n",
    "| Crowdsourcing                   | 0.93  | Nitin Balaji| Collegeboard video to learn topic, Khan Academy Review)                                           | [My Team Teach](https://ikan2025.github.io/Nighthawk-Pages/2023/12/05/crowdsourcing_IPYNB_2_.html) |\n",
    "| Legal Ethical Concerns          | 0.97  | Tanuj       | Re-Review of Team Teach, Collegeboard Video on Topic, Khan Academy and Research on a type of license | [My response to Google Form](https://ikan2025.github.io/Nighthawk-Pages/2023/12/18/Legal-Ethical-Concerns_IPYNB_2_.html) |\n",
    "| Safe Computing                  | 0.96  | Kayden Le   | Re-Review of Team Teach and Collegeboard Video on Topic, Academy            | [Safe Computing IPYNB 2](https://ikan2025.github.io/CSP-JWT-Login-Project/2023/12/21/Safe_computing_IPYNB_2_.html) |\n",
    "| CB Quiz                         | 1.98  | Mr.Mortensen| Blog, Test Corrections, and research on unknown topics                      | [My Blog on 2020 College Board AP CSP Quiz](https://ikan2025.github.io/CSP-JWT-Login-Project/2023/12/16/CollegeBoard_IPYNB_2_.html)                                        |\n",
    "| Totals                          | Median Score: 0.98 |        | Extra Effort Count: 10                                                                            |    Key Assets: 10\n",
    "\n",
    "\n",
    "\n"
   ]
  },
  {
   "cell_type": "markdown",
   "metadata": {},
   "source": [
    "**Extra for CPT Project: Exploring Ideas**"
   ]
  }
 ],
 "metadata": {
  "kernelspec": {
   "display_name": "Python 3",
   "language": "python",
   "name": "python3"
  },
  "language_info": {
   "name": "python",
   "version": "3.11.4"
  }
 },
 "nbformat": 4,
 "nbformat_minor": 2
}
